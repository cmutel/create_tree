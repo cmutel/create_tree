{
 "cells": [
  {
   "cell_type": "markdown",
   "metadata": {},
   "source": [
    "# Generating a dataframe with key statistics from the network-tree comparison\n",
    "Pascal Lesage, Dec. 13, 2016"
   ]
  },
  {
   "cell_type": "code",
   "execution_count": 15,
   "metadata": {
    "collapsed": false
   },
   "outputs": [],
   "source": [
    "import os\n",
    "import numpy as np\n",
    "import pickle\n",
    "import pandas as pd\n",
    "import sys\n",
    "from collections import defaultdict"
   ]
  },
  {
   "cell_type": "markdown",
   "metadata": {},
   "source": [
    "#### Specify location of output of comparison  \n",
    "Output should be\n",
    " - a set of '_metadata' files with some data on trees  \n",
    " - a set of files with arrays containing result of Monte Carlo"
   ]
  },
  {
   "cell_type": "code",
   "execution_count": null,
   "metadata": {
    "collapsed": true
   },
   "outputs": [],
   "source": [
    "network_tree_comparison_fp = r\"E:\\network_tree_comparison\""
   ]
  },
  {
   "cell_type": "markdown",
   "metadata": {},
   "source": [
    "#### Organize filepaths in a dictionary for easy access"
   ]
  },
  {
   "cell_type": "code",
   "execution_count": 16,
   "metadata": {
    "collapsed": false
   },
   "outputs": [],
   "source": [
    "all_comparison_files = [os.path.join(network_tree_comparison_fp, 'raw', file) \n",
    "                        for file in os.listdir(\n",
    "                            os.path.join(network_tree_comparison_fp, 'raw')\n",
    "                            )\n",
    "                        ]\n",
    "\n",
    "#Keys of activities\n",
    "acts = [os.path.basename(comparison)[:-7] for comparison in all_comparison_files \n",
    "                                            if 'metadata' not in comparison]\n",
    "comparison_fp_dict = defaultdict()\n",
    "for act in acts:\n",
    "    comparison_fp_dict[act] = {}\n",
    "    comparison_fp_dict[act]['metadata'] = os.path.join(\n",
    "        network_tree_comparison_fp, \n",
    "        'raw', \n",
    "        '_metadata_{}.pickle'.format(act)\n",
    "        )\n",
    "    comparison_fp_dict[act]['data'] = os.path.join(\n",
    "        network_tree_comparison_fp, \n",
    "        'raw', \n",
    "        '{}.pickle'.format(act)\n",
    "        )"
   ]
  },
  {
   "cell_type": "markdown",
   "metadata": {},
   "source": [
    "#### Generate lists that will be used as pandas dataframe indices"
   ]
  },
  {
   "cell_type": "code",
   "execution_count": 17,
   "metadata": {
    "collapsed": true
   },
   "outputs": [],
   "source": [
    "method_list = [*pickle.load(open(comparison_fp_dict[acts[0]]['data'], 'rb')).keys()]\n",
    "method_as_string_list = [str(m) for m in method_list]\n",
    "product_system_list = [*pickle.load(open(comparison_fp_dict[acts[0]]['data'], 'rb'))[method_list[0]].keys()]\n",
    "metrics = ['GSD2',\n",
    "           'median',\n",
    "           'perc 1%',\n",
    "           'perc 2.5%',\n",
    "           'perc 5%',\n",
    "           'perc -1SD',\n",
    "           'perc +1SD',\n",
    "           'perc 95%',\n",
    "           'perc 97.5%',\n",
    "           'perc 99%',\n",
    "           'abs spread 99%',\n",
    "           'abs spread 95%',\n",
    "           'variance'\n",
    "           ]"
   ]
  },
  {
   "cell_type": "markdown",
   "metadata": {},
   "source": [
    "#### Generate and populate dataframe"
   ]
  },
  {
   "cell_type": "code",
   "execution_count": 21,
   "metadata": {
    "collapsed": false
   },
   "outputs": [
    {
     "name": "stdout",
     "output_type": "stream",
     "text": [
      "working on 4087 of 4087"
     ]
    }
   ],
   "source": [
    "c_multiindex = pd.MultiIndex.from_product((metrics, method_as_string_list, product_system_list), \n",
    "                                          names = ['metric', 'method', 'model'])\n",
    "comparison_analysis_df = pd.DataFrame(index = acts, columns = c_multiindex)\n",
    "# Populate results df\n",
    "for i, act in enumerate(acts):\n",
    "    sys.stdout.write(\"\\rworking on {} of {}\".format(i+1, len(acts)))\n",
    "    sys.stdout.flush()\n",
    "    act_data = pickle.load(open(comparison_fp_dict[act]['data'], 'rb'))\n",
    "    for method in method_list:\n",
    "        for product_system in product_system_list:\n",
    "            sample = act_data[method][product_system]\n",
    "            ln_sample = np.log(sample)\n",
    "            # GSD2\n",
    "            comparison_analysis_df.loc[act, ('GSD2', str(method), product_system)] = np.exp(np.std(ln_sample))**2\n",
    "            # Variance\n",
    "            comparison_analysis_df.loc[act, ('variance', str(method), product_system)] = np.var(sample)\n",
    "            # Median\n",
    "            comparison_analysis_df.loc[act, ('median', str(method), product_system)] = np.median(sample)\n",
    "            # confidence intevals\n",
    "            comparison_analysis_df.loc[act, ('perc 1%', str(method), product_system)] = np.percentile(sample, 1)\n",
    "            comparison_analysis_df.loc[act, ('perc 2.5%', str(method), product_system)] = np.percentile(sample, 2.5)\n",
    "            comparison_analysis_df.loc[act, ('perc 5%', str(method), product_system)] = np.percentile(sample, 5)\n",
    "            comparison_analysis_df.loc[act, ('perc -1SD', str(method), product_system)] = np.percentile(sample, 15.865)\n",
    "            comparison_analysis_df.loc[act, ('perc +1SD', str(method), product_system)] = np.percentile(sample, 84.1345)\n",
    "            comparison_analysis_df.loc[act, ('perc 95%', str(method), product_system)] = np.percentile(sample, 95)\n",
    "            comparison_analysis_df.loc[act, ('perc 97.5%', str(method), product_system)] = np.percentile(sample, 97.5)\n",
    "            comparison_analysis_df.loc[act, ('perc 99%', str(method), product_system)] = np.percentile(sample, 99)\n",
    "            comparison_analysis_df.loc[act, ('abs spread 99%', str(method), product_system)] = np.percentile(sample, 99.5) - np.percentile(sample, 0.5)\n",
    "            comparison_analysis_df.loc[act, ('abs spread 95%', str(method), product_system)] = np.percentile(sample, 97.5) - np.percentile(sample, 2.5)\n",
    "comparison_analysis_df = comparison_analysis_df.sort_index(axis=1)"
   ]
  },
  {
   "cell_type": "markdown",
   "metadata": {},
   "source": [
    "#### Write dataframe to pickle  \n",
    "Note: pickle chosen to conserve multiindex"
   ]
  },
  {
   "cell_type": "code",
   "execution_count": 23,
   "metadata": {
    "collapsed": false
   },
   "outputs": [],
   "source": [
    "comparison_analysis_df.to_pickle(os.path.join(network_tree_comparison_fp, 'summary_statistics_dataframe.pickle'))"
   ]
  }
 ],
 "metadata": {
  "kernelspec": {
   "display_name": "Python 3",
   "language": "python",
   "name": "python3"
  },
  "language_info": {
   "codemirror_mode": {
    "name": "ipython",
    "version": 3
   },
   "file_extension": ".py",
   "mimetype": "text/x-python",
   "name": "python",
   "nbconvert_exporter": "python",
   "pygments_lexer": "ipython3",
   "version": "3.5.2"
  },
  "widgets": {
   "state": {},
   "version": "1.1.2"
  }
 },
 "nbformat": 4,
 "nbformat_minor": 0
}
