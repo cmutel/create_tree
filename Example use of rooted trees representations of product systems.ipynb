{
 "cells": [
  {
   "cell_type": "markdown",
   "metadata": {},
   "source": [
    "# Example use of rooted trees representations of product systems"
   ]
  },
  {
   "cell_type": "markdown",
   "metadata": {},
   "source": [
    "### Introduction:\n",
    "LCI databases built from unit process data can be very large. For example, ecoinvent v3.2 (cut-off) has 12,916 activities (unit processes), 116,248 technosphere flows (intermediary exchanges) and 343,020 biosphere exchanges (elementary flows).  \n",
    "Consequently, the resulting product systems that are built for specific LCA that *use* the LCI databases are also significantly large.  \n",
    "LCI databases built from unit process data also have cyclic dependency relationships, or *feedback loops*. For example, Electricity distribution is needed for aluminium production, and aluminium is needed for electricity distribution.  \n",
    "\n",
    "There are cases where one could (1) want to reduce the size of one's product system, without losing any of the contributions to the total LCIA scores, or (2) have product systems where every instance of an activity is modeled as an independent unit process. Really, its true. This is why we did this.\n",
    "\n",
    "Based on ideas presented in [Bourgault et al. 2012](http://link.springer.com/article/10.1007/s11367-012-0418-7), a \"Tree\" class was created that converts product systems modeled in the Brightway2 LCA framework into rooted tree representations of the same product systems.\n",
    "  - The root is the unit process providing the functional unit.\n",
    "  - All branches (i.e. internal nodes) are unit processes whose cradle-to-gate contributions are greater than a specified threshold (the \"cutoff\") for a given list of methods.\n",
    "  - All other unit processes are considered leaves.\n",
    "  - Leaves can be:\n",
    "      * \"entry points\" to a disaggregated background LCI database\n",
    "      * Datasets produced on the fly containing only LCIA scores\n",
    "  - The resulting branch and leaf nodes are written to a new database.\n",
    "  - The tree.root can then be used to create LCA objects as would normally be done in Brightway."
   ]
  },
  {
   "cell_type": "markdown",
   "metadata": {},
   "source": [
    "### Imports and set-up"
   ]
  },
  {
   "cell_type": "code",
   "execution_count": 76,
   "metadata": {
    "collapsed": false
   },
   "outputs": [],
   "source": [
    "# Import brightway2 LCA framework\n",
    "from brightway2 import *\n",
    "\n",
    "# Import the \"Tree\" class. Need to install as module or call from the right directory. \n",
    "from create_tree import Tree\n",
    "\n",
    "# Import the augment_biosphere3 function, required to store leaves as LCIA results.\n",
    "# See https://github.com/PascalLesage/my_bw_utils/blob/master/augment_biosphere3.py\n",
    "# Need to install as module or call from the right directory. \n",
    "from my_bw_utils import augment_biosphere3 # Need to install as module or be in the right directory."
   ]
  },
  {
   "cell_type": "code",
   "execution_count": 35,
   "metadata": {
    "collapsed": true
   },
   "outputs": [],
   "source": [
    "# Others\n",
    "import time\n",
    "import numpy as np"
   ]
  },
  {
   "cell_type": "code",
   "execution_count": 81,
   "metadata": {
    "collapsed": false
   },
   "outputs": [
    {
     "name": "stdout",
     "output_type": "stream",
     "text": [
      "Biosphere database already present!!! No setup is needed\n",
      "Extracting XML data from 12916 datasets\n",
      "Extracted 12916 datasets in 135.83 seconds\n",
      "Applying strategy: normalize_units\n",
      "Applying strategy: remove_zero_amount_coproducts\n",
      "Applying strategy: remove_zero_amount_inputs_with_no_activity\n",
      "Applying strategy: remove_unnamed_parameters\n",
      "Applying strategy: es2_assign_only_product_with_amount_as_reference_product\n",
      "Applying strategy: assign_single_product_as_activity\n",
      "Applying strategy: create_composite_code\n",
      "Applying strategy: drop_unspecified_subcategories\n",
      "Applying strategy: link_biosphere_by_flow_uuid\n",
      "Applying strategy: link_internal_technosphere_by_composite_code\n",
      "Applying strategy: delete_exchanges_missing_activity\n",
      "Applying strategy: delete_ghost_exchanges\n",
      "Applying strategy: nuncertainty\n",
      "Applied 13 strategies in 3.82 seconds\n"
     ]
    },
    {
     "name": "stderr",
     "output_type": "stream",
     "text": [
      "Writing activities to SQLite3 database:\n",
      "0%                          100%\n",
      "[##############################] | ETA: 00:00:00\n",
      "Total time elapsed: 00:10:29\n"
     ]
    },
    {
     "name": "stdout",
     "output_type": "stream",
     "text": [
      "Title: Writing activities to SQLite3 database:\n",
      "  Started: 09/28/2016 23:33:53\n",
      "  Finished: 09/28/2016 23:44:23\n",
      "  Total time elapsed: 00:10:29\n",
      "  CPU %: 17.30\n",
      "  Memory %: 12.29\n",
      "Created database: ei32_CU_U\n"
     ]
    }
   ],
   "source": [
    "# Create a new project, set it up and import ecoinvent v3.2 cut-off:\n",
    "projects.set_current(\"Tree examples\")\n",
    "bw2setup()\n",
    "if 'ei32_CU_U' not in databases:\n",
    "    ei = SingleOutputEcospold2Importer(r'C:\\mypy\\data\\ecoinvent 3_2 CutOff\\datasets', 'ei32_CU_U')\n",
    "    ei.apply_strategies()\n",
    "    ei.write_database()"
   ]
  },
  {
   "cell_type": "markdown",
   "metadata": {},
   "source": [
    "The storing of aggregated LCIA scores on leaves can only be done if the [biosphere database is first augmented](https://github.com/PascalLesage/my_bw_utils/blob/master/augment_biosphere3.py)."
   ]
  },
  {
   "cell_type": "code",
   "execution_count": 82,
   "metadata": {
    "collapsed": false
   },
   "outputs": [
    {
     "name": "stderr",
     "output_type": "stream",
     "text": [
      "Writing activities to SQLite3 database:\n",
      "0%                          100%\n",
      "[##############################] | ETA: 00:00:00\n",
      "Total time elapsed: 00:00:06\n"
     ]
    },
    {
     "name": "stdout",
     "output_type": "stream",
     "text": [
      "Title: Writing activities to SQLite3 database:\n",
      "  Started: 09/28/2016 23:46:15\n",
      "  Finished: 09/28/2016 23:46:21\n",
      "  Total time elapsed: 00:00:06\n",
      "  CPU %: 22.70\n",
      "  Memory %: 13.32\n"
     ]
    }
   ],
   "source": [
    "augment_biosphere3.addUnitImpactFlowsToBiosphereAndMethods()"
   ]
  },
  {
   "cell_type": "code",
   "execution_count": 83,
   "metadata": {
    "collapsed": false
   },
   "outputs": [
    {
     "data": {
      "text/plain": [
       "Databases dictionary with 2 object(s):\n",
       "\tbiosphere3\n",
       "\tei32_CU_U"
      ]
     },
     "execution_count": 83,
     "metadata": {},
     "output_type": "execute_result"
    }
   ],
   "source": [
    "databases"
   ]
  },
  {
   "cell_type": "code",
   "execution_count": 84,
   "metadata": {
    "collapsed": false
   },
   "outputs": [
    {
     "name": "stdout",
     "output_type": "stream",
     "text": [
      "There are 12916 activities in database ei32_CU_U\n"
     ]
    }
   ],
   "source": [
    "# Let's create a variable that references the ecoinvent database:\n",
    "db = Database('ei32_CU_U')\n",
    "print(\"There are {} activities in database {}\".format(len(db), db.name))"
   ]
  },
  {
   "cell_type": "code",
   "execution_count": 109,
   "metadata": {
    "collapsed": true
   },
   "outputs": [],
   "source": [
    "# Let's randomly select an activity from ecoinvent and an LCIA method:\n",
    "random_activity = db.random()\n",
    "random_method = methods.random()"
   ]
  },
  {
   "cell_type": "markdown",
   "metadata": {},
   "source": [
    "## \"Network LCA\"\n",
    "The typical Brightway2 usage would have you calculate LCA (LCI, LCIA, Monte-CArlo, what-have-you) using the full product system with its circular dependency relationships and all. This is normally quite fine, and would look something like this:"
   ]
  },
  {
   "cell_type": "code",
   "execution_count": 111,
   "metadata": {
    "collapsed": false
   },
   "outputs": [
    {
     "data": {
      "text/plain": [
       "18.53145341756747"
      ]
     },
     "execution_count": 111,
     "metadata": {},
     "output_type": "execute_result"
    }
   ],
   "source": [
    "# Simple deterministic LCA\n",
    "network_LCA = LCA({random_activity:1}, random_method)\n",
    "network_LCA.lci()\n",
    "network_LCA.lcia()\n",
    "network_LCA.score"
   ]
  },
  {
   "cell_type": "code",
   "execution_count": 112,
   "metadata": {
    "collapsed": false
   },
   "outputs": [
    {
     "name": "stdout",
     "output_type": "stream",
     "text": [
      "The network product system has 116248 technosphere exchanges (i.e. elements in the A matrix)\n",
      "It also has has 343020 biosphere exchanges (i.e. non-null elements in the B matrix)\n"
     ]
    }
   ],
   "source": [
    "# Some statistics:)\n",
    "print(\"The network product system has {} technosphere exchanges (i.e. elements in the A matrix)\".format(len(network_LCA.tech_params)))\n",
    "print(\"It also has has {} biosphere exchanges (i.e. non-null elements in the B matrix)\".format(len(network_LCA.bio_params)))"
   ]
  },
  {
   "cell_type": "markdown",
   "metadata": {},
   "source": [
    "## Trees with connections to the background\n",
    "Let's create the tree with the cutoff pertaining to the random LCIA method + another random method:"
   ]
  },
  {
   "cell_type": "code",
   "execution_count": 113,
   "metadata": {
    "collapsed": false
   },
   "outputs": [],
   "source": [
    "list_of_LCIA_methods = [random_method, methods.random()]"
   ]
  },
  {
   "cell_type": "code",
   "execution_count": 114,
   "metadata": {
    "collapsed": false
   },
   "outputs": [
    {
     "name": "stderr",
     "output_type": "stream",
     "text": [
      "Writing activities to SQLite3 database:\n",
      "0%       100%\n",
      "[###########] | ETA: 00:00:00\n",
      "Total time elapsed: 00:00:01\n"
     ]
    },
    {
     "name": "stdout",
     "output_type": "stream",
     "text": [
      "Title: Writing activities to SQLite3 database:\n",
      "  Started: 09/28/2016 23:54:01\n",
      "  Finished: 09/28/2016 23:54:02\n",
      "  Total time elapsed: 00:00:01\n",
      "  CPU %: 8.30\n",
      "  Memory %: 18.04\n"
     ]
    }
   ],
   "source": [
    "# Intantiate the tree\n",
    "tree_connected = Tree({random_activity:1})\n",
    "\n",
    "# Traverse the tree\n",
    "tree_connected.traverse(list_of_LCIA_methods,\n",
    "                        \"connected_tree\",\n",
    "                        cutoff=0.1,\n",
    "                        store_leaves_as_scores=False)\n",
    "\n",
    "# write the tree to the database \"connected tree\"\n",
    "tree_connected.write_tree()"
   ]
  },
  {
   "cell_type": "markdown",
   "metadata": {},
   "source": [
    "We can now do the same operations are with the network LCA:"
   ]
  },
  {
   "cell_type": "code",
   "execution_count": 115,
   "metadata": {
    "collapsed": false
   },
   "outputs": [
    {
     "data": {
      "text/plain": [
       "18.53145363409269"
      ]
     },
     "execution_count": 115,
     "metadata": {},
     "output_type": "execute_result"
    }
   ],
   "source": [
    "# Simple deterministic LCA\n",
    "connected_tree_LCA = LCA({tree_connected.root:1}, random_method) #Explicitly calling the tree root\n",
    "connected_tree_LCA.lci()\n",
    "connected_tree_LCA.lcia()\n",
    "connected_tree_LCA.score"
   ]
  },
  {
   "cell_type": "code",
   "execution_count": 116,
   "metadata": {
    "collapsed": false
   },
   "outputs": [
    {
     "data": {
      "text/plain": [
       "18.531446901979397"
      ]
     },
     "execution_count": 116,
     "metadata": {},
     "output_type": "execute_result"
    }
   ],
   "source": [
    "# The result was also stored in the Tree object, along with the scores for all methods in the list passed to tree.traverse\n",
    "tree_connected.scores[random_method]"
   ]
  },
  {
   "cell_type": "code",
   "execution_count": 117,
   "metadata": {
    "collapsed": false
   },
   "outputs": [
    {
     "name": "stdout",
     "output_type": "stream",
     "text": [
      "The network product system has 116405 technosphere exchanges (i.e. elements in the A matrix)\n",
      "It also has has 343219 biosphere exchanges (i.e. non-null elements in the B matrix)\n"
     ]
    }
   ],
   "source": [
    "# Some statistics:)\n",
    "print(\"The network product system has {} technosphere exchanges (i.e. elements in the A matrix)\".format(\n",
    "        len(connected_tree_LCA.tech_params)))\n",
    "print(\"It also has has {} biosphere exchanges (i.e. non-null elements in the B matrix)\".format(\n",
    "        len(connected_tree_LCA.bio_params)))"
   ]
  },
  {
   "cell_type": "markdown",
   "metadata": {},
   "source": [
    "This is more than in the network model. This is because all branches and leaves are copies of datasets that also exist in the background:"
   ]
  },
  {
   "cell_type": "code",
   "execution_count": 118,
   "metadata": {
    "collapsed": false
   },
   "outputs": [
    {
     "name": "stdout",
     "output_type": "stream",
     "text": [
      "There are 157 more technosphere exchanges and 199 more biosphere exchanges in this model than in the network equivalent\n"
     ]
    }
   ],
   "source": [
    "print(\"There are {} more technosphere exchanges and {} more biosphere exchanges in this model than in the network equivalent\".format(\n",
    "        len(connected_tree_LCA.tech_params) - len(network_LCA.tech_params),\n",
    "        len(connected_tree_LCA.bio_params) - len(network_LCA.bio_params)\n",
    "      ))"
   ]
  },
  {
   "cell_type": "code",
   "execution_count": 119,
   "metadata": {
    "collapsed": false
   },
   "outputs": [
    {
     "name": "stdout",
     "output_type": "stream",
     "text": [
      "11 branch nodes and 136 leaves were created\n"
     ]
    }
   ],
   "source": [
    "print(\"{} branch nodes and {} leaves were created\".format(\n",
    "        len(tree_connected.list_branches),\n",
    "        len(tree_connected.list_leafs)\n",
    "        ))"
   ]
  },
  {
   "cell_type": "markdown",
   "metadata": {},
   "source": [
    "The new database is dependent on the ecoinvent database:"
   ]
  },
  {
   "cell_type": "code",
   "execution_count": 124,
   "metadata": {
    "collapsed": false
   },
   "outputs": [
    {
     "data": {
      "text/plain": [
       "['biosphere3', 'ei32_CU_U']"
      ]
     },
     "execution_count": 124,
     "metadata": {},
     "output_type": "execute_result"
    }
   ],
   "source": [
    "Database('connected_tree').find_dependents()"
   ]
  },
  {
   "cell_type": "markdown",
   "metadata": {},
   "source": [
    "## Trees with leaves storing only cradle-to-gate impacts"
   ]
  },
  {
   "cell_type": "code",
   "execution_count": 120,
   "metadata": {
    "collapsed": false
   },
   "outputs": [
    {
     "name": "stderr",
     "output_type": "stream",
     "text": [
      "Writing activities to SQLite3 database:\n",
      "0%                          100%\n",
      "[##############################] | ETA: 00:00:00\n",
      "Total time elapsed: 00:00:01\n"
     ]
    },
    {
     "name": "stdout",
     "output_type": "stream",
     "text": [
      "Title: Writing activities to SQLite3 database:\n",
      "  Started: 09/28/2016 23:54:54\n",
      "  Finished: 09/28/2016 23:54:56\n",
      "  Total time elapsed: 00:00:01\n",
      "  CPU %: 28.20\n",
      "  Memory %: 8.52\n"
     ]
    }
   ],
   "source": [
    "# Intantiate the tree\n",
    "tree_leaves_as_scores = Tree({random_activity:1})\n",
    "\n",
    "# Traverse the tree\n",
    "tree_leaves_as_scores.traverse(list_of_LCIA_methods,\n",
    "                        \"disconnected_tree\",\n",
    "                        cutoff=0.1,\n",
    "                        store_leaves_as_scores=True)\n",
    "\n",
    "# write the tree to the database \"connected tree\"\n",
    "tree_leaves_as_scores.write_tree()"
   ]
  },
  {
   "cell_type": "code",
   "execution_count": 121,
   "metadata": {
    "collapsed": false
   },
   "outputs": [
    {
     "data": {
      "text/plain": [
       "18.531453580879443"
      ]
     },
     "execution_count": 121,
     "metadata": {},
     "output_type": "execute_result"
    }
   ],
   "source": [
    "# Simple deterministic LCA\n",
    "disconnected_tree_LCA = LCA({tree_leaves_as_scores.root:1}, random_method) #Explicitly calling the tree root\n",
    "disconnected_tree_LCA.lci()\n",
    "disconnected_tree_LCA.lcia()\n",
    "disconnected_tree_LCA.score"
   ]
  },
  {
   "cell_type": "code",
   "execution_count": 125,
   "metadata": {
    "collapsed": false
   },
   "outputs": [
    {
     "name": "stdout",
     "output_type": "stream",
     "text": [
      "The network product system has 293 technosphere exchanges (i.e. elements in the A matrix)\n",
      "It also has has 471 biosphere exchanges (i.e. non-null elements in the B matrix)\n"
     ]
    }
   ],
   "source": [
    "# Some statistics:)\n",
    "print(\"The network product system has {} technosphere exchanges (i.e. elements in the A matrix)\".format(\n",
    "        len(disconnected_tree_LCA.tech_params)))\n",
    "print(\"It also has has {} biosphere exchanges (i.e. non-null elements in the B matrix)\".format(\n",
    "        len(disconnected_tree_LCA.bio_params)))"
   ]
  },
  {
   "cell_type": "markdown",
   "metadata": {},
   "source": [
    "The number of flows is about three orders of magnitude smaller!"
   ]
  },
  {
   "cell_type": "markdown",
   "metadata": {},
   "source": [
    "There are also no longer any links between the tree and the background database:"
   ]
  },
  {
   "cell_type": "code",
   "execution_count": 123,
   "metadata": {
    "collapsed": false
   },
   "outputs": [
    {
     "data": {
      "text/plain": [
       "['biosphere3']"
      ]
     },
     "execution_count": 123,
     "metadata": {},
     "output_type": "execute_result"
    }
   ],
   "source": [
    "Database('disconnected_tree').find_dependents()"
   ]
  }
 ],
 "metadata": {
  "kernelspec": {
   "display_name": "Python 3",
   "language": "python",
   "name": "python3"
  },
  "language_info": {
   "codemirror_mode": {
    "name": "ipython",
    "version": 3
   },
   "file_extension": ".py",
   "mimetype": "text/x-python",
   "name": "python",
   "nbconvert_exporter": "python",
   "pygments_lexer": "ipython3",
   "version": "3.5.2"
  },
  "widgets": {
   "state": {},
   "version": "1.1.2"
  }
 },
 "nbformat": 4,
 "nbformat_minor": 0
}
